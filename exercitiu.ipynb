{
 "cells": [
  {
   "cell_type": "code",
   "execution_count": null,
   "metadata": {},
   "outputs": [],
   "source": [
    "# Program: write a program to find add, sub, mult, div of these two matrices.\n",
    "\n",
    "# x = [[2, 7, 3],\n",
    "#      [4, 5, 6],\n",
    "#      [7, 8, 9]]\n",
    " \n",
    "# y = [[5, 8, 1],\n",
    "#     [6, 7, 3],\n",
    "#     [4, 5, 9]]"
   ]
  },
  {
   "cell_type": "code",
   "execution_count": 1,
   "metadata": {},
   "outputs": [],
   "source": [
    "import numpy as np"
   ]
  },
  {
   "cell_type": "code",
   "execution_count": 2,
   "metadata": {},
   "outputs": [],
   "source": [
    "x = [[2, 7, 3],\n",
    "     [4, 5, 6],\n",
    "     [7, 8, 9]]\n",
    "\n",
    "y = [[5, 8, 1],\n",
    "     [6, 7, 3],\n",
    "     [4, 5, 9]]"
   ]
  },
  {
   "cell_type": "code",
   "execution_count": 3,
   "metadata": {},
   "outputs": [],
   "source": [
    "x_array = np.array(x)"
   ]
  },
  {
   "cell_type": "code",
   "execution_count": 4,
   "metadata": {},
   "outputs": [],
   "source": [
    "x_array = np.array(x).flatten()\n",
    "y_array = np.array(y).flatten()\n",
    "add = x_array + y_array\n",
    "sub = x_array - y_array\n",
    "mult = x_array * y_array\n",
    "div = x_array / y_array"
   ]
  },
  {
   "cell_type": "code",
   "execution_count": 6,
   "metadata": {},
   "outputs": [
    {
     "name": "stdout",
     "output_type": "stream",
     "text": [
      "Addition of two matrices is:  [[ 7 15  4]\n",
      " [10 12  9]\n",
      " [11 13 18]]\n",
      "Substraction of two matrices is:  [[-3 -1  2]\n",
      " [-2 -2  3]\n",
      " [ 3  3  0]]\n",
      "Multiplication of two matrices is:  [[10 56  3]\n",
      " [24 35 18]\n",
      " [28 40 81]]\n",
      "Division of two matrices is:  [[0.4        0.875      3.        ]\n",
      " [0.66666667 0.71428571 2.        ]\n",
      " [1.75       1.6        1.        ]]\n"
     ]
    }
   ],
   "source": [
    "print(\"Addition of two matrices is: \", np.array(add).reshape(3,3))\n",
    "print(\"Substraction of two matrices is: \", np.array(sub).reshape(3,3))\n",
    "print(\"Multiplication of two matrices is: \", np.array(mult).reshape(3,3))\n",
    "print(\"Division of two matrices is: \", np.array(div).reshape(3,3))"
   ]
  },
  {
   "cell_type": "code",
   "execution_count": null,
   "metadata": {},
   "outputs": [],
   "source": []
  }
 ],
 "metadata": {
  "kernelspec": {
   "display_name": "Python 3",
   "language": "python",
   "name": "python3"
  },
  "language_info": {
   "codemirror_mode": {
    "name": "ipython",
    "version": 3
   },
   "file_extension": ".py",
   "mimetype": "text/x-python",
   "name": "python",
   "nbconvert_exporter": "python",
   "pygments_lexer": "ipython3",
   "version": "3.8.5"
  }
 },
 "nbformat": 4,
 "nbformat_minor": 4
}
